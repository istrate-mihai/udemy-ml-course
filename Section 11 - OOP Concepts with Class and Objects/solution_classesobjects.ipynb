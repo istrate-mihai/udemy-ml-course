{
 "cells": [
  {
   "cell_type": "code",
   "execution_count": 7,
   "metadata": {},
   "outputs": [
    {
     "name": "stdout",
     "output_type": "stream",
     "text": [
      "BMW 2025 ix\n"
     ]
    }
   ],
   "source": [
    "### Assignment 1: Basic Class and Object Creation\n",
    "\n",
    "# Create a class named `Car` with attributes `make`, `model`, and `year`. Create an object of the class and print its attributes.\n",
    "\n",
    "class Car:\n",
    "    def __init__(self, make, model, year):\n",
    "        self.make  = make\n",
    "        self.model = model\n",
    "        self.year  = year\n",
    "    \n",
    "    def start_engine(self):\n",
    "        print('Start Engine')\n",
    "\n",
    "myCar = Car('BMW', 'ix', 2025)\n",
    "print(myCar.make, myCar.year, myCar.model)"
   ]
  },
  {
   "cell_type": "code",
   "execution_count": 8,
   "metadata": {},
   "outputs": [
    {
     "name": "stdout",
     "output_type": "stream",
     "text": [
      "Start Engine\n"
     ]
    }
   ],
   "source": [
    "### Assignment 2: Methods in Class\n",
    "\n",
    "# Add a method named `start_engine` to the `Car` class that prints a message when the engine starts. Create an object of the class and call the method.\n",
    "myCar.start_engine()"
   ]
  },
  {
   "cell_type": "code",
   "execution_count": 11,
   "metadata": {},
   "outputs": [
    {
     "name": "stdout",
     "output_type": "stream",
     "text": [
      "28 Mihai\n"
     ]
    }
   ],
   "source": [
    "### Assignment 3: Class with Constructor\n",
    "\n",
    "# Create a class named `Student` with attributes `name` and `age`. Use a constructor to initialize these attributes. Create an object of the class and print its attributes.\n",
    "\n",
    "class Student:\n",
    "    def __init__(self, name, age):\n",
    "        self.name = name\n",
    "        self.age  = age\n",
    "\n",
    "myStudent = Student('Mihai', 28)\n",
    "print(myStudent.age, myStudent.name)"
   ]
  },
  {
   "cell_type": "code",
   "execution_count": null,
   "metadata": {},
   "outputs": [
    {
     "name": "stdout",
     "output_type": "stream",
     "text": [
      "Deposit of 500 yields account 1243543647585 with 600 amount\n",
      "Operation concluded.\n",
      "Operation failed.\n",
      "1243543647585\n",
      "Withdraw of 50 yields account 1243543647585 with 550 amount.\n",
      "Operation failed.\n",
      "Operation failed.\n",
      "1243543647585\n"
     ]
    }
   ],
   "source": [
    "### Assignment 4: Class with Private Attributes\n",
    "\n",
    "# Create a class named `BankAccount` with private attributes `account_number` and `balance`. Add methods to deposit and withdraw money, and to check the balance.\n",
    "# Create an object of the class and perform some operations.\n",
    "\n",
    "### Assignment 13: Class with Custom Exception\n",
    "\n",
    "# Create a custom exception named `InsufficientBalanceError`. In the `BankAccount` class, raise this exception when a withdrawal amount\n",
    "# is greater than the balance. Handle the exception and print an appropriate message.\n",
    "\n",
    "class InsufficientBalanceError(Exception):\n",
    "  def __init__(self, message):\n",
    "    super().__init__(message)\n",
    "\n",
    "class BankAccount:\n",
    "    def __init__(self, account_number, balance):\n",
    "        self.__account_number = account_number\n",
    "        self.__balance        = balance\n",
    "\n",
    "    def deposit(self, account_number, amount):\n",
    "        try:\n",
    "            if len(account_number) == 0:\n",
    "                raise InsufficientBalanceError('Invalid Bank Account.')\n",
    "\n",
    "            if amount < 0:\n",
    "                raise InsufficientBalanceError('Amount to deposit cannot be negative.')\n",
    "\n",
    "            self.__balance += amount\n",
    "            print(f'Deposit of {amount} yields account {self.__account_number} with {self.__balance} amount')\n",
    "\n",
    "        except InsufficientBalanceError as err:\n",
    "            print(f'Deposit operation failed {err}.')\n",
    "        finally:\n",
    "            print('Operation concluded.')\n",
    "\n",
    "    def withdraw(self, account_number, amount):\n",
    "        try:\n",
    "            if len(account_number) == 0:\n",
    "                raise InsufficientBalanceError('Invalid Bank Account.')\n",
    "\n",
    "            if amount > self.__balance:\n",
    "               raise InsufficientBalanceError('Sum to withdraw is too great.')\n",
    "\n",
    "            self.__balance -= amount\n",
    "            print(f'Withdraw of {amount} yields account {self.__account_number} with {self.__balance} amount.')\n",
    "\n",
    "        except InsufficientBalanceError as err:\n",
    "            print(f'Withdraw operation failed {err}.')\n",
    "        finally:\n",
    "            print('Operation failed.')\n",
    "\n",
    "    def check_balance(self, account_number):\n",
    "        try:\n",
    "            if len(account_number) == 0:\n",
    "                raise InsufficientBalanceError('Invalid Bank Account.')\n",
    "            value = self.__account_number\n",
    "\n",
    "        except InsufficientBalanceError as err:\n",
    "            print(f'Check balance operation failed {err}')\n",
    "            value = None\n",
    "        finally:\n",
    "            print('Operation failed.')\n",
    "        return value\n",
    "\n",
    "account_number = '1243543647585'\n",
    "\n",
    "my_account = BankAccount(account_number, 100)\n",
    "my_account.deposit(account_number, 500)\n",
    "print(my_account.check_balance(account_number))\n",
    "my_account.withdraw(account_number, 50)\n",
    "print(my_account.check_balance(account_number))"
   ]
  },
  {
   "cell_type": "code",
   "execution_count": 10,
   "metadata": {},
   "outputs": [
    {
     "name": "stdout",
     "output_type": "stream",
     "text": [
      "28 Mihai 1\n"
     ]
    }
   ],
   "source": [
    "### Assignment 5: Class Inheritance\n",
    "\n",
    "# Create a base class named `Person` with attributes `name` and `age`. Create a derived class named `Employee` that inherits from\n",
    "# `Person` and adds an attribute `employee_id`. Create an object of the derived class and print its attributes.\n",
    "\n",
    "class Person:\n",
    "  def __init__(self, name, age):\n",
    "    self.name = name\n",
    "    self.age  = age\n",
    "\n",
    "class Employee(Person):\n",
    "  def __init__(self, name, age, employee_id):\n",
    "    super().__init__(name, age)\n",
    "    self.employee_id = employee_id\n",
    "\n",
    "  def __str__(self):\n",
    "    return f'The employee is {self.age} old, has a name of {self.name} and employee id of {self.employee_id}'\n",
    "\n",
    "person1 = Employee('Mihai', 28, 1)\n",
    "print(person1.age, person1.name, person1.employee_id)"
   ]
  },
  {
   "cell_type": "code",
   "execution_count": 11,
   "metadata": {},
   "outputs": [
    {
     "name": "stdout",
     "output_type": "stream",
     "text": [
      "The employee is 28 old, has a name of Mihai and employee id of 1\n"
     ]
    }
   ],
   "source": [
    "### Assignment 6: Method Overriding\n",
    "\n",
    "# In the `Employee` class, override the `__str__` method to return a string representation of the object.\n",
    "# Create an object of the class and print it.\n",
    "print(person1)"
   ]
  },
  {
   "cell_type": "code",
   "execution_count": 12,
   "metadata": {},
   "outputs": [
    {
     "name": "stdout",
     "output_type": "stream",
     "text": [
      "Constanta Ale. Mimozelor 900413\n"
     ]
    }
   ],
   "source": [
    "### Assignment 7: Class Composition\n",
    "\n",
    "# Create a class named `Address` with attributes `street`, `city`, and `zipcode`. Create a class named `Person` that has an `Address`\n",
    "# object as an attribute. Create an object of the `Person` class and print its address.\n",
    "\n",
    "class Address:\n",
    "  def __init__(self, street, city, zipcode):\n",
    "    self.street  = street\n",
    "    self.city    = city\n",
    "    self.zipcode = zipcode\n",
    "\n",
    "class Person:\n",
    "  def __init__(self, address):\n",
    "    self.address = address\n",
    "\n",
    "addressHere = Address('Ale. Mimozelor', 'Constanta', 900413)\n",
    "firstPerson = Person(addressHere)\n",
    "print(firstPerson.address.city, firstPerson.address.street, firstPerson.address.zipcode)"
   ]
  },
  {
   "cell_type": "code",
   "execution_count": 17,
   "metadata": {},
   "outputs": [
    {
     "name": "stdout",
     "output_type": "stream",
     "text": [
      "1\n",
      "2\n",
      "2\n"
     ]
    }
   ],
   "source": [
    "### Assignment 8: Class with Class Variables\n",
    "\n",
    "# Create a class named `Counter` with a class variable `count`. Each time an object is created, increment the count. Add a method to get the\n",
    "# current count. Create multiple objects and print the count.\n",
    "\n",
    "class Counter:\n",
    "  count = 0\n",
    "  def __init__(self):\n",
    "    Counter.count += 1\n",
    "\n",
    "  def getCount(self):\n",
    "    return Counter.count\n",
    "\n",
    "count_1 = Counter()\n",
    "print(count_1.getCount())\n",
    "count_2 = Counter()\n",
    "print(count_1.getCount())\n",
    "print(count_2.getCount())"
   ]
  },
  {
   "cell_type": "code",
   "execution_count": 19,
   "metadata": {},
   "outputs": [
    {
     "name": "stdout",
     "output_type": "stream",
     "text": [
      "5.0\n"
     ]
    }
   ],
   "source": [
    "### Assignment 9: Static Methods\n",
    "\n",
    "# Create a class named `MathOperations` with a static method to calculate the square root of a number. Call the static method without\n",
    "# creating an object.\n",
    "import math\n",
    "\n",
    "class MathOperations:\n",
    "  @staticmethod\n",
    "  def get_square_root(number):\n",
    "    return math.sqrt(number)\n",
    "  \n",
    "print(MathOperations.get_square_root(25))"
   ]
  },
  {
   "cell_type": "code",
   "execution_count": 20,
   "metadata": {},
   "outputs": [
    {
     "name": "stdout",
     "output_type": "stream",
     "text": [
      "10\n",
      "20\n",
      "400\n",
      "100\n"
     ]
    }
   ],
   "source": [
    "### Assignment 10: Class with Properties\n",
    "\n",
    "# Create a class named `Rectangle` with private attributes `length` and `width`. Use properties to get and set these attributes.\n",
    "# Create an object of the class and test the properties.\n",
    "\n",
    "class Rectangle:\n",
    "  def __init__(self, length, width):\n",
    "    self.__length = length\n",
    "    self.__width  = width\n",
    "\n",
    "  @property\n",
    "  def length(self):\n",
    "    return self.__length\n",
    "  \n",
    "  @property\n",
    "  def width(self):\n",
    "    return self.__width\n",
    "  \n",
    "  @length.setter\n",
    "  def length(self, length):\n",
    "    self.__length = length\n",
    "\n",
    "  @width.setter\n",
    "  def width(self, width):\n",
    "    self.__width = width\n",
    "\n",
    "myRectangle = Rectangle(10, 20)\n",
    "print(myRectangle.length)\n",
    "print(myRectangle.width)\n",
    "\n",
    "myRectangle.length = 400\n",
    "myRectangle.width  = 100\n",
    "\n",
    "print(myRectangle.length)\n",
    "print(myRectangle.width)"
   ]
  },
  {
   "cell_type": "code",
   "execution_count": 21,
   "metadata": {},
   "outputs": [
    {
     "name": "stdout",
     "output_type": "stream",
     "text": [
      "15.707963267948966\n",
      "16\n"
     ]
    }
   ],
   "source": [
    "### Assignment 11: Abstract Base Class\n",
    "\n",
    "# Create an abstract base class named `Shape` with an abstract method `area`. Create derived classes `Circle` and `Square` that\n",
    "# implement the `area` method. Create objects of the derived classes and call the `area` method.\n",
    "\n",
    "from abc import ABC, abstractmethod\n",
    "\n",
    "class Shape:\n",
    "  @abstractmethod\n",
    "  def area(self):\n",
    "    pass\n",
    "\n",
    "class Circle(Shape):\n",
    "\n",
    "  def __init__(self, radius):\n",
    "    self.radius = radius\n",
    "\n",
    "  def area(self):\n",
    "    return math.pi * self.radius\n",
    "\n",
    "class Square(Shape):\n",
    "\n",
    "  def __init__(self, length):\n",
    "    self.length = length\n",
    "\n",
    "  def area(self):\n",
    "    return self.length * self.length\n",
    "\n",
    "circle = Circle(5)\n",
    "print(circle.area())\n",
    "\n",
    "square = Square(4)\n",
    "print(square.area())"
   ]
  },
  {
   "cell_type": "code",
   "execution_count": 24,
   "metadata": {},
   "outputs": [
    {
     "name": "stdout",
     "output_type": "stream",
     "text": [
      "Vector: 15, 30\n"
     ]
    }
   ],
   "source": [
    "### Assignment 12: Operator Overloading\n",
    "\n",
    "# Create a class named `Vector` with attributes `x` and `y`. Overload the `+` operator to add two `Vector` objects.\n",
    "# Create objects of the class and test the operator overloading.\n",
    "\n",
    "class Vector:\n",
    "  def __init__(self, x, y):\n",
    "    self.x = x\n",
    "    self.y = y\n",
    "\n",
    "  def __add__(self, vector):\n",
    "    return Vector(self.x + vector.x, self.y + vector.y)\n",
    "  \n",
    "  def __str__(self):\n",
    "    return f'Vector: {self.x}, {self.y}'\n",
    "\n",
    "v1 = Vector(10, 20)\n",
    "v2 = Vector(5, 10)\n",
    "\n",
    "print(v1 + v2)"
   ]
  },
  {
   "cell_type": "code",
   "execution_count": 35,
   "metadata": {},
   "outputs": [
    {
     "name": "stdout",
     "output_type": "stream",
     "text": [
      "There was an error reading the file with exception thrown 'FileManager' object has no attribute 'read'\n",
      "End execution\n"
     ]
    }
   ],
   "source": [
    "### Assignment 14: Class with Context Manager\n",
    "\n",
    "# Create a class named `FileManager` that implements the context manager protocol to open and close a file.\n",
    "# Use this class to read the contents of a file.\n",
    "\n",
    "class FileManager:\n",
    "  def __init__(self, name, mode):\n",
    "    self.name = name\n",
    "    self.mode = mode\n",
    "\n",
    "  def __enter__(self):\n",
    "    file = open(self.name, self.mode)\n",
    "    return self.file\n",
    "  \n",
    "  def __exit__(self):\n",
    "    return self.file.close()\n",
    "\n",
    "try:\n",
    "  file_manager = FileManager('sample.txt', 'r')\n",
    "  content      = file_manager.read()\n",
    "  print(content)\n",
    "except Exception as err:\n",
    "  print(f'There was an error reading the file with exception thrown {err}')\n",
    "finally:\n",
    "  print('End execution')\n",
    "\n"
   ]
  },
  {
   "cell_type": "code",
   "execution_count": 47,
   "metadata": {},
   "outputs": [
    {
     "name": "stdout",
     "output_type": "stream",
     "text": [
      "0.5\n"
     ]
    }
   ],
   "source": [
    "### Assignment 15: Chaining Methods\n",
    "\n",
    "# Create a class named `Calculator` with methods to add, subtract, multiply, and divide. Each method should return the\n",
    "# object itself to allow method chaining. Create an object and chain multiple method calls.\n",
    "\n",
    "class Calculator:\n",
    "\n",
    "  def __init__(self):\n",
    "    self.result = None\n",
    "\n",
    "  def add(self, a):\n",
    "    if self.result == None:\n",
    "      self.result = 0\n",
    "\n",
    "    self.result = self.result + a\n",
    "    return self\n",
    "  \n",
    "  def subtract(self, a):\n",
    "    if self.result == None:\n",
    "      self.result = 0\n",
    "\n",
    "    self.result = self.result - a\n",
    "    return self\n",
    "  \n",
    "  def multiply(self, a):\n",
    "    if self.result == None:\n",
    "      self.result = 1\n",
    "  \n",
    "    self.result = self.result * a\n",
    "    return self\n",
    "\n",
    "  def divide(self, a):\n",
    "    if self.result == None:\n",
    "      self.result = a ** 2\n",
    "\n",
    "    self.result = self.result / a\n",
    "    return self\n",
    "\n",
    "  def check_result(self):\n",
    "    return self.result\n",
    "\n",
    "myCalculator = Calculator()\n",
    "print(myCalculator.add(10).subtract(5).multiply(2).divide(20).check_result())"
   ]
  },
  {
   "cell_type": "code",
   "execution_count": null,
   "metadata": {},
   "outputs": [],
   "source": []
  }
 ],
 "metadata": {
  "kernelspec": {
   "display_name": "Python 3",
   "language": "python",
   "name": "python3"
  },
  "language_info": {
   "codemirror_mode": {
    "name": "ipython",
    "version": 3
   },
   "file_extension": ".py",
   "mimetype": "text/x-python",
   "name": "python",
   "nbconvert_exporter": "python",
   "pygments_lexer": "ipython3",
   "version": "3.12.0"
  }
 },
 "nbformat": 4,
 "nbformat_minor": 2
}
