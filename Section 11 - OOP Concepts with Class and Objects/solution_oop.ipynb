{
 "cells": [
  {
   "cell_type": "code",
   "execution_count": 4,
   "metadata": {},
   "outputs": [
    {
     "name": "stdout",
     "output_type": "stream",
     "text": [
      "Shape area\n",
      "Circle area\n",
      "Square area\n"
     ]
    }
   ],
   "source": [
    "### Assignment 1: Polymorphism with Methods\n",
    "\n",
    "# Create a base class named `Shape` with a method `area`. Create two derived classes `Circle` and `Square` that override the `area` method.\n",
    "# Create a list of `Shape` objects and call the `area` method on each object to demonstrate polymorphism.\n",
    "import math\n",
    "\n",
    "class Shape:\n",
    "  def area(self):\n",
    "    print('Shape area')\n",
    "\n",
    "class Circle(Shape):\n",
    "  def area(self):\n",
    "    print('Circle area')\n",
    "\n",
    "class Square(Shape):\n",
    "  def area(self):\n",
    "    print('Square area')\n",
    "\n",
    "myList = [Shape(), Circle(), Square()]\n",
    "\n",
    "for item in myList:\n",
    "  item.area()"
   ]
  },
  {
   "cell_type": "code",
   "execution_count": 5,
   "metadata": {},
   "outputs": [
    {
     "name": "stdout",
     "output_type": "stream",
     "text": [
      "Circle area\n",
      "Square area\n"
     ]
    }
   ],
   "source": [
    "### Assignment 2: Polymorphism with Function Arguments\n",
    "\n",
    "# Create a function named `describe_shape` that takes a `Shape` object as an argument and calls its `area` method.\n",
    "# Create objects of `Circle` and `Square` classes and pass them to the `describe_shape` function.\n",
    "\n",
    "def describe_shape(shape):\n",
    "  shape.area()\n",
    "\n",
    "describe_shape(myList[1])\n",
    "describe_shape(myList[2])"
   ]
  },
  {
   "cell_type": "code",
   "execution_count": 6,
   "metadata": {},
   "outputs": [
    {
     "name": "stdout",
     "output_type": "stream",
     "text": [
      "Car engine started\n",
      "Hydrogen\n",
      "Bike engine started\n",
      "Oil\n"
     ]
    }
   ],
   "source": [
    "### Assignment 3: Abstract Base Class with Abstract Methods\n",
    "\n",
    "# Create an abstract base class named `Vehicle` with an abstract method `start_engine`. Create derived classes `Car` and `Bike`\n",
    "# that implement the `start_engine` method. Create objects of the derived classes and call the `start_engine` method.\n",
    "\n",
    "from abc import ABC, abstractmethod\n",
    "\n",
    "class Vehicle(ABC):\n",
    "  @abstractmethod\n",
    "  def start_engine(self):\n",
    "    pass\n",
    "\n",
    "  def fuel_type(self):\n",
    "    return 'Diesel'\n",
    "\n",
    "class Car(Vehicle):\n",
    "  def start_engine(self):\n",
    "    print('Car engine started')\n",
    "  \n",
    "  def fuel_type(self):\n",
    "    return 'Hydrogen'\n",
    "\n",
    "class Bike(Vehicle):\n",
    "  def start_engine(self):\n",
    "    print('Bike engine started')\n",
    "\n",
    "  def fuel_type(self):\n",
    "    return 'Oil'\n",
    "\n",
    "car = Car()\n",
    "car.start_engine()\n",
    "print(car.fuel_type())\n",
    "\n",
    "bike = Bike()\n",
    "bike.start_engine()\n",
    "print(bike.fuel_type())"
   ]
  },
  {
   "cell_type": "code",
   "execution_count": 7,
   "metadata": {},
   "outputs": [],
   "source": [
    "### Assignment 4: Abstract Base Class with Concrete Methods\n",
    "\n",
    "# In the `Vehicle` class, add a concrete method `fuel_type` that returns a generic fuel type. Override this method in `Car` and `Bike`\n",
    "# classes to return specific fuel types. Create objects of the derived classes and call the `fuel_type` method."
   ]
  },
  {
   "cell_type": "code",
   "execution_count": 8,
   "metadata": {},
   "outputs": [
    {
     "name": "stdout",
     "output_type": "stream",
     "text": [
      "100\n",
      "1000\n"
     ]
    }
   ],
   "source": [
    "### Assignment 5: Encapsulation with Private Attributes\n",
    "\n",
    "# Create a class named `BankAccount` with private attributes `account_number` and `balance`. Add methods to deposit and withdraw money,\n",
    "# and to check the balance. Ensure that the balance cannot be accessed directly.\n",
    "\n",
    "class BankAccount:\n",
    "  def __init__(self, account_number):\n",
    "    self.account_number = account_number\n",
    "    self.__balance      = 0\n",
    "\n",
    "  def withdraw(self, amount):\n",
    "    self.__balance = self.__balance - amount\n",
    "    return amount\n",
    "\n",
    "  def deposit(self, amount):\n",
    "    self.__balance = self.__balance + amount\n",
    "\n",
    "  def check__balance(self):\n",
    "    return self.__balance\n",
    "\n",
    "  @property\n",
    "  def balance(self):\n",
    "    return self.__balance\n",
    "\n",
    "  @balance.setter\n",
    "  def balance(self, amount):\n",
    "    if amount < 0:\n",
    "      print('Cannot set a negative balance')\n",
    "      return\n",
    "    self.__balance = amount\n",
    "  \n",
    "bankAccount = BankAccount('12466')\n",
    "bankAccount.balance = 1000\n",
    "print(bankAccount.withdraw(100))\n",
    "bankAccount.deposit(100)\n",
    "print(bankAccount.check__balance())"
   ]
  },
  {
   "cell_type": "code",
   "execution_count": 9,
   "metadata": {},
   "outputs": [],
   "source": [
    "### Assignment 6: Encapsulation with Property Decorators\n",
    "\n",
    "# In the `BankAccount` class, use property decorators to get and set the `balance` attribute. Ensure that the balance cannot be set to a negative value.\n",
    "# Done"
   ]
  },
  {
   "cell_type": "code",
   "execution_count": 10,
   "metadata": {},
   "outputs": [
    {
     "name": "stdout",
     "output_type": "stream",
     "text": [
      "28\n",
      "Mihai\n"
     ]
    }
   ],
   "source": [
    "### Assignment 7: Combining Encapsulation and Inheritance\n",
    "\n",
    "# Create a base class named `Person` with private attributes `name` and `age`. Add methods to get and set these attributes. Create a derived class named `Student` that adds an\n",
    "# attribute `student_id`. Create an object of the `Student` class and test the encapsulation.\n",
    "\n",
    "class Person:\n",
    "    def __init__(self):\n",
    "        self.__name = ''\n",
    "        self.__age  = 0\n",
    "\n",
    "    @property\n",
    "    def name(self):\n",
    "        return self.__name\n",
    "\n",
    "    @name.setter\n",
    "    def name(self, name):\n",
    "        self.__name = name\n",
    "\n",
    "    @property\n",
    "    def age(self):\n",
    "        return self.__age\n",
    "\n",
    "    @age.setter\n",
    "    def age(self, age):\n",
    "        self.__age = age\n",
    "\n",
    "class Student(Person):\n",
    "    def __init__(self, student_id):\n",
    "        self.__student_id = student_id\n",
    "\n",
    "student = Student(123)\n",
    "student.name = 'Mihai'\n",
    "student.age = 28\n",
    "print(student.age)\n",
    "print(student.name)"
   ]
  },
  {
   "cell_type": "code",
   "execution_count": 11,
   "metadata": {},
   "outputs": [
    {
     "name": "stdout",
     "output_type": "stream",
     "text": [
      "Woof Woof\n",
      "None\n",
      "Meow Meow\n",
      "None\n"
     ]
    }
   ],
   "source": [
    "### Assignment 8: Polymorphism with Inheritance\n",
    "\n",
    "# Create a base class named `Animal` with a method `speak`. Create two derived classes `Dog` and `Cat` that override the `speak` method. Create a list of `Animal` objects and call the `speak` method on\n",
    "# each object to demonstrate polymorphism.\n",
    "\n",
    "class Animal:\n",
    "    def speak(self):\n",
    "        print('Hrrrrrrrrrrrr')\n",
    "\n",
    "class Dog(Animal):\n",
    "    def speak(self):\n",
    "        print('Woof Woof')\n",
    "\n",
    "class Cat(Animal):\n",
    "    def speak(self):\n",
    "        print('Meow Meow')\n",
    "\n",
    "animalList = [Dog(), Cat()]\n",
    "\n",
    "for animal in animalList:\n",
    "    print(animal.speak())\n"
   ]
  },
  {
   "cell_type": "code",
   "execution_count": 12,
   "metadata": {},
   "outputs": [
    {
     "name": "stdout",
     "output_type": "stream",
     "text": [
      "400\n",
      "200\n"
     ]
    }
   ],
   "source": [
    "### Assignment 9: Abstract Methods in Base Class\n",
    "\n",
    "# Create an abstract base class named `Employee` with an abstract method `calculate_salary`. Create two derived classes `FullTimeEmployee` and `PartTimeEmployee` that implement the\n",
    "# `calculate_salary` method. Create objects of the derived classes and call the `calculate_salary` method.\n",
    "\n",
    "from abc import ABC, abstractmethod\n",
    "\n",
    "class Employee(ABC):\n",
    "    @abstractmethod\n",
    "    def calculate_salary(self):\n",
    "        pass\n",
    "\n",
    "class FullTimeEmployee(Employee):\n",
    "    def calculate_salary(self):\n",
    "        return 10 * 40\n",
    "\n",
    "class PartTimeEmployee(Employee):\n",
    "    def calculate_salary(self):\n",
    "        return 10 * 20\n",
    "\n",
    "fullTimeEmployee = FullTimeEmployee()\n",
    "partTimeEmployee = PartTimeEmployee()\n",
    "\n",
    "print(fullTimeEmployee.calculate_salary())\n",
    "print(partTimeEmployee.calculate_salary())"
   ]
  },
  {
   "cell_type": "code",
   "execution_count": 14,
   "metadata": {},
   "outputs": [
    {
     "name": "stdout",
     "output_type": "stream",
     "text": [
      "Television\n",
      "100\n",
      "500\n"
     ]
    }
   ],
   "source": [
    "### Assignment 10: Encapsulation in Data Classes\n",
    "\n",
    "# Create a data class named `Product` with private attributes `product_id`, `name`, and `price`. Add methods to get and set these attributes. Ensure that the price cannot be set to a negative value.\n",
    "\n",
    "class Product:\n",
    "\n",
    "    def __init__(self):\n",
    "        self.__name       = ''\n",
    "        self.__price      = 0\n",
    "        self.__product_id = 0\n",
    "\n",
    "    def get_name(self):\n",
    "        return self.__name\n",
    "\n",
    "    def set_name(self, name):\n",
    "        self.__name = name\n",
    "\n",
    "    def get_product_id(self):\n",
    "        return self.__product_id\n",
    "\n",
    "    def set_product_id(self, product_id):\n",
    "        self.__product_id = product_id\n",
    "\n",
    "    def get_price(self):\n",
    "        return self.__price\n",
    "\n",
    "    def set_price(self, price):\n",
    "        if price < 0:\n",
    "            self.__price = price\n",
    "        self.__price = price\n",
    "\n",
    "product = Product()\n",
    "product.set_name('Television')\n",
    "print(product.get_name())\n",
    "\n",
    "product.set_product_id(100)\n",
    "print(product.get_product_id())\n",
    "\n",
    "product.set_price(500)\n",
    "print(product.get_price())"
   ]
  },
  {
   "cell_type": "code",
   "execution_count": 18,
   "metadata": {},
   "outputs": [
    {
     "name": "stdout",
     "output_type": "stream",
     "text": [
      "20\n"
     ]
    }
   ],
   "source": [
    "### Assignment 11: Polymorphism with Operator Overloading\n",
    "\n",
    "# Create a class named `Vector` with attributes `x` and `y`. Overload the `+` operator to add two `Vector` objects.\n",
    "# Create objects of the class and test the operator overloading.\n",
    "\n",
    "class Vector:\n",
    "\n",
    "  def __init__(self, x, y):\n",
    "    self.x = x\n",
    "    self.y = y\n",
    "\n",
    "  def __add__(self, vector):\n",
    "    return Vector(self.x + vector.x, self.y + vector.y)\n",
    "\n",
    "v1 = Vector(10, 20)\n",
    "v2 = Vector(10, 40)\n",
    "v3 = v1 + v2\n",
    "\n",
    "print(v3.x)"
   ]
  },
  {
   "cell_type": "code",
   "execution_count": null,
   "metadata": {},
   "outputs": [
    {
     "name": "stdout",
     "output_type": "stream",
     "text": [
      "200\n",
      "500\n"
     ]
    }
   ],
   "source": [
    "### Assignment 12: Abstract Properties\n",
    "\n",
    "# Create an abstract base class named `Appliance` with an abstract property `power`. Create two derived classes `WashingMachine` and\n",
    "# `Refrigerator` that implement the `power` property. Create objects of the derived classes and access the `power` property.\n",
    "\n",
    "from abc import ABC, abstractmethod\n",
    "\n",
    "class Applicance:\n",
    "\n",
    "  @property\n",
    "  @abstractmethod\n",
    "  def power(self):\n",
    "    pass\n",
    "\n",
    "class WashingMachine(Applicance):\n",
    "  @property\n",
    "  def power(self):\n",
    "    return 200\n",
    "\n",
    "class Refirgerator(Applicance):\n",
    "  @property\n",
    "  def power(self):\n",
    "    return 500\n",
    "\n",
    "wm = WashingMachine()\n",
    "rf = Refirgerator()\n",
    "\n",
    "print(wm.power)\n",
    "print(rf.power)"
   ]
  },
  {
   "cell_type": "code",
   "execution_count": 14,
   "metadata": {},
   "outputs": [
    {
     "name": "stdout",
     "output_type": "stream",
     "text": [
      "100\n",
      "200\n",
      "100\n"
     ]
    }
   ],
   "source": [
    "### Assignment 13: Encapsulation in Class Hierarchies\n",
    "\n",
    "# Create a base class named `Account` with private attributes `account_number` and `balance`. Add methods to get and set these attributes.\n",
    "# Create a derived class named `SavingsAccount` that adds an attribute `interest_rate`. Create an object of the `SavingsAccount` class and\n",
    "# test the encapsulation.\n",
    "\n",
    "class Account:\n",
    "\n",
    "  def __init__(self):\n",
    "    self._account_number = ''\n",
    "    self._balance        = 0\n",
    "\n",
    "  @property\n",
    "  def account_number(self):\n",
    "    return self._account_number\n",
    "\n",
    "  @property\n",
    "  def balance(self):\n",
    "    return self._balance\n",
    "\n",
    "  @account_number.setter\n",
    "  def account(self, account):\n",
    "    self._account_number = account\n",
    "\n",
    "  @balance.setter\n",
    "  def balance(self, amount):\n",
    "    self._balance = amount\n",
    "\n",
    "class SavingsAccount(Account):\n",
    "\n",
    "   def __init__(self, interest_rate):\n",
    "    self.interest_rate = interest_rate\n",
    "\n",
    "account = SavingsAccount(100)\n",
    "account.account = 100\n",
    "print(account.account)\n",
    "\n",
    "account.balance = 200\n",
    "print(account.balance)\n",
    "\n",
    "print(account.interest_rate)"
   ]
  },
  {
   "cell_type": "code",
   "execution_count": 16,
   "metadata": {},
   "outputs": [
    {
     "name": "stdout",
     "output_type": "stream",
     "text": [
      "Flying on\n",
      "Superhero fly\n",
      "Swim on\n",
      "Superhero swims\n"
     ]
    }
   ],
   "source": [
    "### Assignment 14: Polymorphism with Multiple Inheritance\n",
    "\n",
    "# Create a class named `Flyer` with a method `fly`. Create a class named `Swimmer` with a method `swim`. Create a class named `Superhero`\n",
    "# that inherits from both `Flyer` and `Swimmer` and overrides both methods. Create an object of the `Superhero` class and call both methods.\n",
    "\n",
    "### Assignment 11: Multiple Inheritance with Different Methods\n",
    "\n",
    "# Create a class named `Flyer` with a method `fly` that prints a flying message. Create a class named `Swimmer`\n",
    "# with a method `swim` that prints a swimming message. Create a derived class `Superhero` that inherits from both `Flyer` and `Swimmer`.\n",
    "# Create an object of the `Superhero` class and call both methods.\n",
    "\n",
    "class Flyer:\n",
    "  def fly(self):\n",
    "    print('Flying on')\n",
    "\n",
    "class Swimmer:\n",
    "  def swim(self):\n",
    "    print('Swim on')\n",
    "\n",
    "class Superhero(Flyer, Swimmer):\n",
    "\n",
    "  def fly(self):\n",
    "    super().fly()\n",
    "    print('Superhero fly')\n",
    "\n",
    "  def swim(self):\n",
    "    Swimmer.swim(self)\n",
    "    print('Superhero swims')\n",
    "\n",
    "superHero1 = Superhero()\n",
    "superHero1.fly()\n",
    "superHero1.swim()"
   ]
  },
  {
   "cell_type": "code",
   "execution_count": 19,
   "metadata": {},
   "outputs": [
    {
     "name": "stdout",
     "output_type": "stream",
     "text": [
      "Engineer works\n",
      "Doctor works\n",
      "None\n"
     ]
    }
   ],
   "source": [
    "### Assignment 15: Abstract Methods and Multiple Inheritance\n",
    "\n",
    "# Create an abstract base class named `Worker` with an abstract method `work`. Create two derived classes `Engineer` and `Doctor` that\n",
    "# implement the `work` method. Create another derived class `Scientist` that inherits from both `Engineer` and `Doctor`. Create an object of\n",
    "# the `Scientist` class and call the `work` method.\n",
    "\n",
    "from abc import ABC, abstractmethod\\\n",
    "\n",
    "class Worker:\n",
    "\n",
    "  @abstractmethod\n",
    "  def work(self):\n",
    "    pass \n",
    "\n",
    "class Engineer(Worker):\n",
    "\n",
    "  def work(self):\n",
    "    print('Engineer works')\n",
    "\n",
    "class Doctor(Worker):\n",
    "\n",
    "  def work(self):\n",
    "    print('Doctor works')\n",
    "\n",
    "class Scientist(Engineer, Doctor):\n",
    "\n",
    "  def work(self):\n",
    "    Engineer.work(self)\n",
    "    Doctor.work(self)\n",
    "\n",
    "scientist = Scientist()\n",
    "print(scientist.work())\n"
   ]
  }
 ],
 "metadata": {
  "kernelspec": {
   "display_name": "Python 3",
   "language": "python",
   "name": "python3"
  },
  "language_info": {
   "codemirror_mode": {
    "name": "ipython",
    "version": 3
   },
   "file_extension": ".py",
   "mimetype": "text/x-python",
   "name": "python",
   "nbconvert_exporter": "python",
   "pygments_lexer": "ipython3",
   "version": "3.12.0"
  }
 },
 "nbformat": 4,
 "nbformat_minor": 2
}
