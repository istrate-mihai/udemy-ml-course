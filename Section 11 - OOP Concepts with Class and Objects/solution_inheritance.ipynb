{
 "cells": [
  {
   "cell_type": "code",
   "execution_count": null,
   "metadata": {},
   "outputs": [
    {
     "name": "stdout",
     "output_type": "stream",
     "text": [
      "Bulldog Rex Canis\n"
     ]
    }
   ],
   "source": [
    "### Assignment 1: Single Inheritance Basic\n",
    "\n",
    "# Create a base class named `Animal` with attributes `name` and `species`. Create a derived class named `Dog` that inherits from\n",
    "# `Animal` and adds an attribute `breed`. Create an object of the `Dog` class and print its attributes.\n",
    "\n",
    "class Animal:\n",
    "  def __init__(self, name, species):\n",
    "    self.name    = name\n",
    "    self.species = species\n",
    "\n",
    "class Dog(Animal):\n",
    "  def __init__(self, name, species, breed):\n",
    "    super().__init__(name, species)\n",
    "    self.breed = breed\n",
    "  \n",
    "  def __str__(self):\n",
    "    return f'The dog\\'s name is {self.breed}, the dog\\'s name is {self.name} and the dog\\'s species is {self.species}'\n",
    "  \n",
    "  def bark(self):\n",
    "    print('Woof')\n",
    "\n",
    "myDog = Dog('Rex', 'Canis', 'Bulldog')\n",
    "print(myDog.breed, myDog.name, myDog.species)"
   ]
  },
  {
   "cell_type": "code",
   "execution_count": 14,
   "metadata": {},
   "outputs": [
    {
     "name": "stdout",
     "output_type": "stream",
     "text": [
      "The dog's name is Bulldog1, the dog's name is Rex1 and the dog's species is Canis1\n"
     ]
    }
   ],
   "source": [
    "### Assignment 2: Method Overriding in Single Inheritance\n",
    "\n",
    "# In the `Dog` class, override the `__str__` method to return a string representation of the object.\n",
    "# Create an object of the class and print it.\n",
    "\n",
    "myDog1 = Dog('Rex1', 'Canis1', 'Bulldog1')\n",
    "print(myDog1)"
   ]
  },
  {
   "cell_type": "code",
   "execution_count": 15,
   "metadata": {},
   "outputs": [
    {
     "name": "stdout",
     "output_type": "stream",
     "text": [
      "Woof\n",
      "None\n"
     ]
    }
   ],
   "source": [
    "### Assignment 3: Single Inheritance with Additional Methods\n",
    "\n",
    "# In the `Dog` class, add a method named `bark` that prints a barking sound. Create an object of the class and call the method.\n",
    "myDog2 = Dog('Rex2', 'Canis2', 'Bulldog2')\n",
    "print(myDog2.bark())"
   ]
  },
  {
   "cell_type": "code",
   "execution_count": 24,
   "metadata": {},
   "outputs": [
    {
     "name": "stdout",
     "output_type": "stream",
     "text": [
      "Shoom\n",
      "Trap Trap\n",
      "Pac Pac\n"
     ]
    }
   ],
   "source": [
    "### Assignment 4: Multiple Inheritance Basic\n",
    "\n",
    "# Create a base class named `Walker` with a method `walk` that prints a walking message.\\\n",
    "# Create another base class named `Runner` with a method `run` that prints a running message.\n",
    "# Create a derived class named `Athlete` that inherits from both `Walker` and `Runner`.\n",
    "# Create an object of the `Athlete` class and call both methods.\n",
    "\n",
    "class Walker:\n",
    "  def walk(self):\n",
    "    print('Pac Pac')\n",
    "\n",
    "class Runner():\n",
    "  def run(self):\n",
    "    print('Shoom')\n",
    "\n",
    "class Athlete(Walker, Runner):\n",
    "  def __init__(self, training_hours):\n",
    "    self.training_hours = training_hours\n",
    "\n",
    "  def walk(self):\n",
    "    print('Trap Trap')\n",
    "    super().walk()\n",
    "  \n",
    "  def train(self):\n",
    "    print(self.training_hours)\n",
    "\n",
    "athlete = Athlete('05:00 - 07:00')\n",
    "athlete.run()\n",
    "athlete.walk()"
   ]
  },
  {
   "cell_type": "code",
   "execution_count": 25,
   "metadata": {},
   "outputs": [],
   "source": [
    "### Assignment 5: Method Resolution Order (MRO) in Multiple Inheritance\n",
    "\n",
    "# In the `Athlete` class, override the `walk` method to print a different message. Create an object of the class and call the `walk` method.\n",
    "# Use the `super()` function to call the `walk` method of the `Walker` class.\n"
   ]
  },
  {
   "cell_type": "code",
   "execution_count": 26,
   "metadata": {},
   "outputs": [
    {
     "name": "stdout",
     "output_type": "stream",
     "text": [
      "05:00 - 07:00\n"
     ]
    }
   ],
   "source": [
    "### Assignment 6: Multiple Inheritance with Additional Attributes\n",
    "# \n",
    "# In the `Athlete` class, add an attribute `training_hours` and a method `train` that prints the training hours.\n",
    "# Create an object of the class and call the method.\n",
    "athlete.train()"
   ]
  },
  {
   "cell_type": "code",
   "execution_count": 28,
   "metadata": {},
   "outputs": [
    {
     "name": "stdout",
     "output_type": "stream",
     "text": [
      "show C\n"
     ]
    }
   ],
   "source": [
    "### Assignment 7: Diamond Problem in Multiple Inheritance\n",
    "\n",
    "# Create a class named `A` with a method `show` that prints a message.\n",
    "# Create two derived classes `B` and `C` that inherit from `A` and override the `show` method.\n",
    "# Create a class `D` that inherits from both `B` and `C`. Create an object of the `D` class and call the `show` method.\n",
    "# Observe the method resolution order.\n",
    "\n",
    "class A:\n",
    "  def show(self):\n",
    "    print('show A')\n",
    "\n",
    "class B(A):\n",
    "  def show(self):\n",
    "    print('show B')\n",
    "\n",
    "class C(A):\n",
    "  def show(self):\n",
    "    print('show C')\n",
    "\n",
    "class D(C, B):\n",
    "  pass\n",
    "\n",
    "d = D()\n",
    "d.show()"
   ]
  },
  {
   "cell_type": "code",
   "execution_count": 29,
   "metadata": {},
   "outputs": [
    {
     "name": "stdout",
     "output_type": "stream",
     "text": [
      "red 10\n"
     ]
    }
   ],
   "source": [
    "\n",
    "### Assignment 8: Using `super()` in Single Inheritance\n",
    "\n",
    "# Create a base class named `Shape` with an attribute `color`. Create a derived class named `Circle` that inherits from\n",
    "# `Shape` and adds an attribute `radius`. Use the `super()` function to initialize the attributes. Create an object of the\n",
    "# `Circle` class and print its attributes.\n",
    "\n",
    "class Shape:\n",
    "  def __init__(self, color):\n",
    "    self.color = color\n",
    "\n",
    "class Circle(Shape):\n",
    "  def __init__(self, color, radius):\n",
    "    super().__init__(color)\n",
    "    self.radius = radius\n",
    "\n",
    "circle1 = Circle('red', 10)\n",
    "print(circle1.color, circle1.radius)\n"
   ]
  },
  {
   "cell_type": "code",
   "execution_count": 32,
   "metadata": {},
   "outputs": [
    {
     "name": "stdout",
     "output_type": "stream",
     "text": [
      "Mihai 12\n"
     ]
    }
   ],
   "source": [
    "### Assignment 9: Using `super()` in Multiple Inheritance\n",
    "\n",
    "# Create a class named `Person` with an attribute `name`. Create a class named `Employee` with an attribute `employee_id`.\n",
    "# Create a derived class `Manager` that inherits from both `Person` and `Employee`. Use the `super()` function to initialize the attributes.\n",
    "# Create an object of the `Manager` class and print its attributes.\n",
    "\n",
    "class Person:\n",
    "  def __init__(self, name):\n",
    "    self.name = name\n",
    "  \n",
    "class Employee():\n",
    "  def __init__(self, employee_id):\n",
    "    self.employee_id = employee_id\n",
    "\n",
    "class Manager(Person, Employee):\n",
    "  def __init__(self, name, employee_id):\n",
    "    super().__init__(name)\n",
    "    Employee.__init__(self, employee_id)\n",
    "\n",
    "manager = Manager('Mihai', 12)\n",
    "print(manager.name, manager.employee_id)\n"
   ]
  },
  {
   "cell_type": "code",
   "execution_count": 35,
   "metadata": {},
   "outputs": [
    {
     "name": "stdout",
     "output_type": "stream",
     "text": [
      "Start\n",
      "Car started\n"
     ]
    }
   ],
   "source": [
    "\n",
    "### Assignment 10: Method Overriding and `super()`\n",
    "\n",
    "# Create a class named `Vehicle` with a method `start` that prints a starting message.\n",
    "# Create a derived class `Car` that overrides the `start` method to print a different message. Use the `super()`\n",
    "# function to call the `start` method of the `Vehicle` class. Create an object of the `Car` class and call the `start` method.\n",
    "\n",
    "class Vehicle:\n",
    "  def start(self):\n",
    "    print('Start')\n",
    "\n",
    "class Car(Vehicle):\n",
    "  def start(self):\n",
    "    super().start()\n",
    "    print('Car started')\n",
    "\n",
    "myCar = Car()\n",
    "myCar.start()"
   ]
  },
  {
   "cell_type": "code",
   "execution_count": 36,
   "metadata": {},
   "outputs": [
    {
     "name": "stdout",
     "output_type": "stream",
     "text": [
      "Flying on\n",
      "Swim on\n"
     ]
    }
   ],
   "source": [
    "### Assignment 11: Multiple Inheritance with Different Methods\n",
    "\n",
    "# Create a class named `Flyer` with a method `fly` that prints a flying message. Create a class named `Swimmer`\n",
    "# with a method `swim` that prints a swimming message. Create a derived class `Superhero` that inherits from both `Flyer` and `Swimmer`.\n",
    "# Create an object of the `Superhero` class and call both methods.\n",
    "\n",
    "class Flyer:\n",
    "  def fly(self):\n",
    "    print('Flying on')\n",
    "\n",
    "class Swimmer:\n",
    "  def swim(self):\n",
    "    print('Swim on')\n",
    "\n",
    "class Superhero(Flyer, Swimmer):\n",
    "  pass\n",
    "\n",
    "superHero1 = Superhero()\n",
    "superHero1.fly()\n",
    "superHero1.swim()"
   ]
  },
  {
   "cell_type": "code",
   "execution_count": 37,
   "metadata": {},
   "outputs": [
    {
     "name": "stdout",
     "output_type": "stream",
     "text": [
      "a b c\n"
     ]
    }
   ],
   "source": [
    "### Assignment 12: Complex Multiple Inheritance\n",
    "\n",
    "# Create a class named `Base1` with an attribute `a`. Create a class named `Base2` with an attribute `b`.\n",
    "# Create a class named `Derived` that inherits from both `Base1` and `Base2` and adds an attribute `c`. Initialize all attributes\n",
    "# using the `super()` function. Create an object of the `Derived` class and print its attributes.\n",
    "\n",
    "class Base1:\n",
    "  def __init__(self, a):\n",
    "    self.a = a\n",
    "\n",
    "class Base2:\n",
    "  def __init__(self, b):\n",
    "    self.b = b\n",
    "\n",
    "class Derived(Base1, Base2):\n",
    "  def __init__(self, a, b, c):\n",
    "    super().__init__(a)\n",
    "    Base2.__init__(self, b)\n",
    "    self.c = c\n",
    "\n",
    "derived = Derived('a', 'b', 'c')\n",
    "print(derived.a, derived.b, derived.c)"
   ]
  },
  {
   "cell_type": "code",
   "execution_count": 40,
   "metadata": {},
   "outputs": [
    {
     "name": "stdout",
     "output_type": "stream",
     "text": [
      "True\n",
      "True\n"
     ]
    }
   ],
   "source": [
    "### Assignment 13: Checking Instance Types with Inheritance\n",
    "\n",
    "# Create a base class named `Animal` and a derived class named `Cat`. Create objects of both classes and use the `isinstance`\n",
    "# function to check the instance types.\n",
    "\n",
    "class Animal:\n",
    "  pass\n",
    "\n",
    "class Cat(Animal):\n",
    "  pass\n",
    "\n",
    "animal = Animal()\n",
    "cat    = Cat()\n",
    "\n",
    "print(isinstance(animal, Animal))\n",
    "print(isinstance(cat, Animal))"
   ]
  },
  {
   "cell_type": "code",
   "execution_count": 41,
   "metadata": {},
   "outputs": [
    {
     "name": "stdout",
     "output_type": "stream",
     "text": [
      "Bird speak\n",
      "Parrot speak\n",
      "Penguin speak\n"
     ]
    }
   ],
   "source": [
    "### Assignment 14: Polymorphism with Inheritance\n",
    "\n",
    "# Create a base class named `Bird` with a method `speak`. Create two derived classes `Parrot` and `Penguin` that override the `speak` method.\n",
    "# Create a list of `Bird` objects and call the `speak` method on each object to demonstrate polymorphism.\n",
    "\n",
    "class Bird:\n",
    "  def speak(self):\n",
    "    print('Bird speak')\n",
    "\n",
    "class Parrot(Bird):\n",
    "  def speak(self):\n",
    "    print('Parrot speak')\n",
    "\n",
    "class Penguin(Bird):\n",
    "  def speak(self):\n",
    "    print('Penguin speak')\n",
    "\n",
    "myBirdList = [Bird(), Parrot(), Penguin()]\n",
    "\n",
    "for bird in myBirdList:\n",
    "  bird.speak()"
   ]
  },
  {
   "cell_type": "code",
   "execution_count": 67,
   "metadata": {},
   "outputs": [
    {
     "name": "stdout",
     "output_type": "stream",
     "text": [
      "Nokia Mini 720\n"
     ]
    }
   ],
   "source": [
    "### Assignment 15: Combining Single and Multiple Inheritance\n",
    "\n",
    "# Create a base class named `Device` with an attribute `brand`. Create a derived class `Phone` that inherits from `Device` and adds an\n",
    "# attribute `model`. Create another base class `Camera` with an attribute `resolution`. Create a derived class `Smartphone` that inherits\n",
    "# from both `Phone` and `Camera`. Create an object of the `Smartphone` class and print its attributes.\n",
    "\n",
    "class Device:\n",
    "  def __init__(self, brand):\n",
    "    self.brand = brand\n",
    "\n",
    "class Phone(Device):\n",
    "  def __init__(self, brand, model):\n",
    "    super().__init__(brand)\n",
    "    self.model = model\n",
    "\n",
    "class Camera:\n",
    "  def __init__(self, resolution):\n",
    "    self.resolution = resolution\n",
    "\n",
    "class Smartphone(Phone, Camera):\n",
    "  def __init__(self, brand, model, resolution):\n",
    "    super().__init__(brand, model)\n",
    "    Camera.__init__(self, resolution)\n",
    "\n",
    "mySmartphone = Smartphone('Nokia', 'Mini', '720')\n",
    "print(mySmartphone.brand, mySmartphone.model, mySmartphone.resolution)"
   ]
  }
 ],
 "metadata": {
  "kernelspec": {
   "display_name": "Python 3",
   "language": "python",
   "name": "python3"
  },
  "language_info": {
   "codemirror_mode": {
    "name": "ipython",
    "version": 3
   },
   "file_extension": ".py",
   "mimetype": "text/x-python",
   "name": "python",
   "nbconvert_exporter": "python",
   "pygments_lexer": "ipython3",
   "version": "3.12.0"
  }
 },
 "nbformat": 4,
 "nbformat_minor": 2
}
