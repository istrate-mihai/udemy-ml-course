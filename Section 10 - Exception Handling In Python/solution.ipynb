{
 "cells": [
  {
   "cell_type": "code",
   "execution_count": 1,
   "metadata": {},
   "outputs": [
    {
     "ename": "ValueError",
     "evalue": "invalid literal for int() with base 10: ''",
     "output_type": "error",
     "traceback": [
      "\u001b[1;31m---------------------------------------------------------------------------\u001b[0m",
      "\u001b[1;31mValueError\u001b[0m                                Traceback (most recent call last)",
      "Cell \u001b[1;32mIn[1], line 14\u001b[0m\n\u001b[0;32m     11\u001b[0m     \u001b[38;5;28;01mfinally\u001b[39;00m:\n\u001b[0;32m     12\u001b[0m         \u001b[38;5;28mprint\u001b[39m(\u001b[38;5;124m'\u001b[39m\u001b[38;5;124mDivision result is \u001b[39m\u001b[38;5;124m'\u001b[39m \u001b[38;5;241m+\u001b[39m \u001b[38;5;28mstr\u001b[39m(div))\n\u001b[1;32m---> 14\u001b[0m a \u001b[38;5;241m=\u001b[39m \u001b[38;5;28;43mint\u001b[39;49m\u001b[43m(\u001b[49m\u001b[38;5;28;43minput\u001b[39;49m\u001b[43m(\u001b[49m\u001b[38;5;124;43m'\u001b[39;49m\u001b[38;5;124;43mEnter first number\u001b[39;49m\u001b[38;5;124;43m'\u001b[39;49m\u001b[43m)\u001b[49m\u001b[43m)\u001b[49m\n\u001b[0;32m     15\u001b[0m b \u001b[38;5;241m=\u001b[39m \u001b[38;5;28mint\u001b[39m(\u001b[38;5;28minput\u001b[39m(\u001b[38;5;124m'\u001b[39m\u001b[38;5;124mEnter second number\u001b[39m\u001b[38;5;124m'\u001b[39m))\n\u001b[0;32m     17\u001b[0m function_1(a, b)\n",
      "\u001b[1;31mValueError\u001b[0m: invalid literal for int() with base 10: ''"
     ]
    }
   ],
   "source": [
    "### Assignment 1: Handling Division by Zero\n",
    "\n",
    "# Write a function that takes two integers as input and returns their division. Use try, except, and finally blocks to handle division by zero and print an appropriate message.\n",
    "\n",
    "def function_1(a, b):\n",
    "    div = ''\n",
    "    try:\n",
    "        div = a / b\n",
    "    except ZeroDivisionError as err:\n",
    "        print('Cannot divide by zero')\n",
    "    finally:\n",
    "        print('Division result is ' + str(div))\n",
    "\n",
    "a = int(input('Enter first number'))\n",
    "b = int(input('Enter second number'))\n",
    "\n",
    "function_1(a, b)"
   ]
  },
  {
   "cell_type": "code",
   "execution_count": null,
   "metadata": {},
   "outputs": [
    {
     "name": "stdout",
     "output_type": "stream",
     "text": [
      "Execution Complete\n"
     ]
    },
    {
     "data": {
      "text/plain": [
       "'Lorem ipsum dolor sit amet, consectetur adipiscing elit. Sed ipsum lectus, fringilla et volutpat vel, sodales ac nunc.\\nSuspendisse id felis nec est congue malesuada vel pellentesque libero. Suspendisse at elementum ligula, ac venenatis enim. Suspendisse in bibendum erat, id auctor metus.\\nNulla sollicitudin nibh id odio dapibus lobortis. Sed et venenatis orci. Mauris mi enim, viverra sit amet tortor vel, interdum tincidunt eros.\\n\\nSed vehicula augue ac mauris laoreet ultrices. Cras congue facilisis justo a semper. Aliquam sed turpis eu arcu lacinia fermentum eu sit amet sapien.\\nSed maximus tempor odio non pellentesque. Nam iaculis felis a pharetra finibus. Praesent id leo dignissim, congue justo non, molestie turpis. Aliquam at nisi metus.\\nSed ut sagittis diam, ut feugiat libero. Donec mattis ante sit amet metus ultricies dictum. Aenean posuere porta orci sed condimentum. Quisque fermentum viverra nisi,\\nvitae congue justo faucibus pharetra. Sed a est efficitur, mollis libero quis, elementum felis. Maecenas ut justo semper, fermentum ipsum ut, eleifend enim.\\nMorbi interdum ornare dapibus. Quisque sed diam faucibus, efficitur metus at, placerat sapien.\\n\\nVivamus lectus enim, cursus ut tincidunt in, tincidunt eget libero. Praesent porta turpis quis egestas accumsan. Suspendisse posuere gravida diam, bibendum\\nvarius leo suscipit sed. Aliquam erat volutpat. Integer eu pulvinar dolor, eget vehicula urna. In tristique, metus id malesuada tempor, nisl erat gravida neque\\n vel volutpat ligula augue blandit metus. Phasellus in massa sit amet ligula cursus feugiat non vel nibh. Phasellus gravida, mauris ac scelerisque bibendum, risus\\n  velit vulputate ipsum, id mollis augue nisl ac justo.\\n\\nUt vitae tincidunt erat. Nulla facilisi. Pellentesque et ex lorem. Donec lobortis aliquet orci sed faucibus. Ut tincidunt nulla facilisis felis dapibus eleifend.\\nDonec in justo vitae purus pulvinar iaculis. Sed venenatis mattis nisl eu tristique. Aenean nec venenatis diam. Etiam pharetra nisi purus, et facilisis dolor consequat vel.\\nVivamus neque nibh, egestas vel nisi egestas, venenatis efficitur quam. Lorem ipsum dolor sit amet, consectetur adipiscing elit. Nulla egestas lectus eget sem suscipit,\\nin facilisis nulla ullamcorper. Mauris eu tortor ac metus vehicula lacinia. Donec posuere tincidunt eleifend.\\n\\nDuis vel eros sit amet lacus ornare laoreet in at odio. Morbi iaculis ipsum eu magna condimentum, non venenatis leo ullamcorper. Duis quis sodales sapien,\\net euismod diam. Nullam eu mattis quam, in placerat tortor. Cras tincidunt mauris vitae erat porttitor cursus. Curabitur ac maximus dolor. Duis vel augue et ex posuere\\nsollicitudin. Sed pretium nulla ac mauris vulputate malesuada. In sed dapibus lacus. Vestibulum commodo lorem sed turpis blandit eleifend. Sed in tincidunt nisi.\\nVestibulum vitae massa eget lorem malesuada ultricies. Vivamus dapibus ligula et libero imperdiet, a congue ante aliquam. Integer eget tempor orci, et varius nibh. Aliquam\\ntincidunt bibendum volutpat. Ut lacus enim, congue vel fermentum non, semper nec ligula.\\n'"
      ]
     },
     "execution_count": 11,
     "metadata": {},
     "output_type": "execute_result"
    }
   ],
   "source": [
    "### Assignment 2: File Reading with Exception Handling\n",
    "\n",
    "# Write a function that reads the contents of a file named `data.txt`. Use try, except, and finally blocks to handle file not found errors and ensure the file is properly closed.\n",
    "\n",
    "def function_2():\n",
    "    try:                                                                                                                   \n",
    "        file         = open('data.txt', 'r')\n",
    "        file_content = file.read()\n",
    "        return file_content \n",
    "    except FileNotFoundError as err:\n",
    "        print('File Not Found')\n",
    "    finally:\n",
    "        try:\n",
    "            file.close()\n",
    "        except NameError as err:\n",
    "            pass\n",
    "        print('Execution Complete')\n",
    "\n",
    "function_2()"
   ]
  },
  {
   "cell_type": "code",
   "execution_count": null,
   "metadata": {},
   "outputs": [
    {
     "name": "stdout",
     "output_type": "stream",
     "text": [
      "Exection complete.\n",
      "190\n",
      "Invalid integer in list.\n",
      "Exection complete.\n",
      "None\n"
     ]
    }
   ],
   "source": [
    "\n",
    "### Assignment 3: Handling Multiple Exceptions\n",
    "\n",
    "# Write a function that takes a list of integers and returns their sum. Use try, except, and finally blocks to handle TypeError if a non-integer value is\n",
    "# encountered and print an appropriate message.\n",
    "\n",
    "list_1 = list(range(1, 20))\n",
    "\n",
    "def function_3(integer_list):\n",
    "    try:\n",
    "        return sum(integer_list)\n",
    "    except TypeError as err:\n",
    "        print(f'Invalid integer in list.')\n",
    "    finally:\n",
    "        print('Exection complete.')\n",
    "\n",
    "print(function_3(list_1))\n",
    "print(function_3([1, 2, 3, 'a']))"
   ]
  },
  {
   "cell_type": "code",
   "execution_count": null,
   "metadata": {},
   "outputs": [
    {
     "name": "stdout",
     "output_type": "stream",
     "text": [
      "Execution complete\n",
      "10\n"
     ]
    }
   ],
   "source": [
    "### Assignment 4: Exception Handling in User Input\n",
    "\n",
    "# Write a function that prompts the user to enter an integer. Use try, except, and finally blocks to handle ValueError if the\n",
    "# user enters a non-integer value and print an appropriate message.\n",
    "\n",
    "def function_4():\n",
    "    try:\n",
    "        num = input('Enter an integer')\n",
    "        num = int(num)\n",
    "    except ValueError as err:\n",
    "        print(f'Value entered is not integer')\n",
    "        num = None\n",
    "    finally:\n",
    "        print('Execution complete')\n",
    "        print(num)\n",
    "\n",
    "function_4()"
   ]
  },
  {
   "cell_type": "code",
   "execution_count": null,
   "metadata": {},
   "outputs": [
    {
     "name": "stdout",
     "output_type": "stream",
     "text": [
      "Missing key 'd'\n",
      "Execution complete\n",
      "None\n",
      "Execution complete\n",
      "2\n"
     ]
    }
   ],
   "source": [
    "### Assignment 5: Exception Handling in Dictionary Access\n",
    "\n",
    "# Write a function that takes a dictionary and a key as input and returns the value associated with the key. Use try, except, and finally blocks to handle\n",
    "# KeyError if the key is not found in the dictionary and print an appropriate message.\n",
    "\n",
    "dict_1 = {\n",
    "    'a': 1,\n",
    "    'b': 2,\n",
    "}\n",
    "\n",
    "def function_5(dictionary, key):\n",
    "    try:\n",
    "        return dictionary[key]\n",
    "    except KeyError as err:\n",
    "        print(f'Missing key {err}')\n",
    "    finally:\n",
    "        print('Execution complete')\n",
    "\n",
    "print(function_5(dict_1, 'd'))\n",
    "print(function_5(dict_1, 'b'))\n"
   ]
  },
  {
   "cell_type": "code",
   "execution_count": null,
   "metadata": {},
   "outputs": [
    {
     "name": "stdout",
     "output_type": "stream",
     "text": [
      "Division execution completed\n",
      "Execution complete.\n",
      "Value is not integer invalid literal for int() with base 10: 'a'\n",
      "Execution complete.\n",
      "Cannot divide by zero\n",
      "Division execution completed\n",
      "Execution complete.\n"
     ]
    },
    {
     "data": {
      "text/plain": [
       "0"
      ]
     },
     "execution_count": 38,
     "metadata": {},
     "output_type": "execute_result"
    }
   ],
   "source": [
    "### Assignment 6: Nested Exception Handling\n",
    "\n",
    "# Write a function that performs nested exception handling. It should first attempt to convert a string to an integer, and then attempt to divide by that integer.\n",
    "# Use nested try, except, and finally blocks to handle ValueError and ZeroDivisionError and print appropriate messages.\n",
    "\n",
    "num_1 = '120'\n",
    "num_2 = 'a'\n",
    "\n",
    "def function_6(string_given):\n",
    "    try:\n",
    "        num = int(string_given)\n",
    "\n",
    "        try:\n",
    "            num = 100 / num\n",
    "        except ZeroDivisionError as err:\n",
    "            print(f'Cannot divide by zero')\n",
    "            num = 0\n",
    "        finally:\n",
    "            print('Division execution completed')\n",
    "\n",
    "    except ValueError as err:\n",
    "        print(f'Value is not integer {err}')\n",
    "        num = 0\n",
    "    finally:\n",
    "        print('Execution complete.')\n",
    "\n",
    "    return num\n",
    "\n",
    "function_6(num_1)\n",
    "function_6(num_2)\n",
    "function_6('0')\n"
   ]
  },
  {
   "cell_type": "markdown",
   "metadata": {},
   "source": []
  },
  {
   "cell_type": "code",
   "execution_count": null,
   "metadata": {},
   "outputs": [
    {
     "name": "stdout",
     "output_type": "stream",
     "text": [
      "Execution complete\n",
      "Index not existing\n",
      "Execution complete\n"
     ]
    }
   ],
   "source": [
    "# ### Assignment 7: Exception Handling in List Operations\n",
    "\n",
    "# Write a function that takes a list and an index as input and returns the element at the given index. Use try, except, and finally blocks to handle\n",
    "# IndexError if the index is out of range and print an appropriate message.\n",
    "\n",
    "list_1  = list(range(10, 20))\n",
    "index_1 = 2\n",
    "index_2 = 99\n",
    "\n",
    "def function_7(integers, index):\n",
    "    try:\n",
    "        value = integers[index]\n",
    "    except IndexError as err:\n",
    "        print('Index not existing')\n",
    "        value = None\n",
    "    finally:\n",
    "        print('Execution complete')\n",
    "    return value\n",
    "\n",
    "function_7(list_1, index_1)\n",
    "function_7(list_1, index_2)"
   ]
  },
  {
   "cell_type": "code",
   "execution_count": null,
   "metadata": {},
   "outputs": [
    {
     "name": "stdout",
     "output_type": "stream",
     "text": [
      "Execution complete\n",
      "b'{\\n  \"userId\": 1,\\n  \"id\": 1,\\n  \"title\": \"sunt aut facere repellat provident occaecati excepturi optio reprehenderit\",\\n  \"body\": \"quia et suscipit\\\\nsuscipit recusandae consequuntur expedita et cum\\\\nreprehenderit molestiae ut ut quas totam\\\\nnostrum rerum est autem sunt rem eveniet architecto\"\\n}'\n",
      "Could not get requested url <urlopen error [Errno 11001] getaddrinfo failed>\n",
      "Execution complete\n",
      "None\n"
     ]
    }
   ],
   "source": [
    "### Assignment 8: Exception Handling in Network Operations\n",
    "\n",
    "# Write a function that attempts to open a URL and read its contents. Use try, except, and finally blocks to\n",
    "# handle network-related errors and print an appropriate message.\n",
    "\n",
    "from urllib.request import urlopen\n",
    "\n",
    "url_1 = 'https://jsonplaceholder.typicode.com/posts/1'\n",
    "url_2 = 'https://nonexistent.url'\n",
    "\n",
    "def function_8(url):\n",
    "    try:\n",
    "        f = urlopen(url)\n",
    "        content = f.read()\n",
    "    except IOError as err:\n",
    "        print(f'Could not get requested url {err}')\n",
    "        content = None\n",
    "    finally:\n",
    "        print('Execution complete')\n",
    "\n",
    "    return content\n",
    "\n",
    "print(function_8(url_1))\n",
    "print(function_8(url_2))"
   ]
  },
  {
   "cell_type": "code",
   "execution_count": 9,
   "metadata": {},
   "outputs": [
    {
     "name": "stdout",
     "output_type": "stream",
     "text": [
      "Execution Complete\n",
      "{'one': '1', 'two': '2', 'three': '3'}\n"
     ]
    }
   ],
   "source": [
    "### Assignment 9: Exception Handling in JSON Parsing\n",
    "\n",
    "# Write a function that attempts to parse a JSON string. Use try, except, and finally blocks to handle JSONDecodeError if the string is not\n",
    "# a valid JSON and print an appropriate message.\n",
    "\n",
    "import json\n",
    "\n",
    "json_str = '{\"one\" : \"1\", \"two\" : \"2\", \"three\" : \"3\"}'\n",
    "\n",
    "def function_9(str):\n",
    "  try:\n",
    "    content = json.loads(str)\n",
    "  except json.JSONDecodeError as err:\n",
    "    print(f'Invalid json {err}')\n",
    "    content = ''\n",
    "  finally:\n",
    "    print('Execution Complete')\n",
    "  return content\n",
    "\n",
    "print(function_9(json_str))"
   ]
  },
  {
   "cell_type": "code",
   "execution_count": 13,
   "metadata": {},
   "outputs": [
    {
     "name": "stdout",
     "output_type": "stream",
     "text": [
      "Execution complete\n",
      "Not a positive number WTF\n",
      "Execution complete\n"
     ]
    }
   ],
   "source": [
    "### Assignment 10: Custom Exception Handling\n",
    "\n",
    "# Define a custom exception named `NegativeNumberError`. Write a function that raises this exception if a negative number is\n",
    "# encountered in a list. Use try, except, and finally blocks to handle the custom exception and print an appropriate message.\n",
    "\n",
    "class NegativeNumberError(Exception):\n",
    "\n",
    "  def __init__(self, message = 'Number is negative'):\n",
    "    self.message = message\n",
    "    super().__init__(self.message)\n",
    "\n",
    "def function_10(numbers):\n",
    "  try:\n",
    "    for number in numbers:\n",
    "      if number < 0:\n",
    "        raise NegativeNumberError('WTF')\n",
    "  except NegativeNumberError as err:\n",
    "    print(f'Not a positive number {err}')\n",
    "  finally:\n",
    "    print('Execution complete')\n",
    "\n",
    "function_10([8, 100, 11, 21, 36, 54])\n",
    "function_10([8, 100, 11, 21, 36, -54])"
   ]
  },
  {
   "cell_type": "code",
   "execution_count": 14,
   "metadata": {},
   "outputs": [
    {
     "name": "stdout",
     "output_type": "stream",
     "text": [
      "Exception err Just raising an exception\n",
      "Execution complete.\n"
     ]
    }
   ],
   "source": [
    "### Assignment 11: Exception Handling in Function Calls\n",
    "\n",
    "# Write a function that calls another function which may raise an exception. Use try, except, and finally blocks to handle the\n",
    "# exception and print an appropriate message.\n",
    "\n",
    "def raiseException():\n",
    "  raise Exception('Just raising an exception')\n",
    "\n",
    "def function_11():\n",
    "  try:\n",
    "    raiseException()\n",
    "  except Exception as err:\n",
    "    print(f'Exception err {err}')\n",
    "  finally:\n",
    "    print('Execution complete.')\n",
    "  \n",
    "function_11()"
   ]
  },
  {
   "cell_type": "code",
   "execution_count": 19,
   "metadata": {},
   "outputs": [
    {
     "name": "stdout",
     "output_type": "stream",
     "text": [
      "Execution complete.\n",
      "Cannot divide by 0\n",
      "Execution complete.\n"
     ]
    },
    {
     "data": {
      "text/plain": [
       "0"
      ]
     },
     "execution_count": 19,
     "metadata": {},
     "output_type": "execute_result"
    }
   ],
   "source": [
    "### Assignment 12: Exception Handling in Class Methods\n",
    "\n",
    "# Define a class with a method that performs a division operation. Use try, except, and finally blocks within the method to handle division\n",
    "# by zero and print an appropriate message.\n",
    "\n",
    "class DivisionClass:\n",
    "  def divide(self, a, b):\n",
    "    try:\n",
    "      result = a / b\n",
    "    except ZeroDivisionError as err:\n",
    "      print('Cannot divide by 0')\n",
    "      result = 0\n",
    "    finally:\n",
    "      print('Execution complete.')\n",
    "    return result\n",
    "\n",
    "divisionClass = DivisionClass()\n",
    "divisionClass.divide(1, 2)\n",
    "divisionClass.divide(1, 0)"
   ]
  },
  {
   "cell_type": "code",
   "execution_count": 24,
   "metadata": {},
   "outputs": [
    {
     "name": "stdout",
     "output_type": "stream",
     "text": [
      "Execution completed.\n",
      "Could not convert string to integer invalid literal for int() with base 10: 'a'\n",
      "Execution completed.\n"
     ]
    }
   ],
   "source": [
    "### Assignment 13: Exception Handling in Data Conversion\n",
    "\n",
    "# Write a function that takes a list of strings and converts them to integers. Use try, except, and finally blocks to handle ValueError\n",
    "# if a string cannot be converted and print an appropriate message.\n",
    "\n",
    "arr1 = ['1', '2', '3', '4', '5']\n",
    "arr2 = ['a', 'b']\n",
    "\n",
    "def function_13(str_list):\n",
    "  try:\n",
    "    result = []\n",
    "    for str in str_list:\n",
    "      result.append(int(str))\n",
    "  except ValueError as err:\n",
    "    print(f'Could not convert string to integer {err}')\n",
    "    result = None\n",
    "  finally:\n",
    "    print('Execution completed.')\n",
    "\n",
    "function_13(arr1)\n",
    "function_13(arr2)"
   ]
  },
  {
   "cell_type": "code",
   "execution_count": 25,
   "metadata": {},
   "outputs": [
    {
     "name": "stdout",
     "output_type": "stream",
     "text": [
      "Execution complete.\n",
      "Could not convert string to integer.\n",
      "Execution complete.\n"
     ]
    }
   ],
   "source": [
    "\n",
    "### Assignment 14: Exception Handling in List Comprehensions\n",
    "\n",
    "# Write a function that uses a list comprehension to convert a list of strings to integers. Use try, except, and finally blocks within the\n",
    "# list comprehension to handle ValueError and print an appropriate message.\n",
    "\n",
    "def function_14(str_list):\n",
    "  try:\n",
    "    result = [int(x) for x in str_list]\n",
    "  except ValueError as err:\n",
    "    print('Could not convert string to integer.')\n",
    "    result = None\n",
    "  finally:\n",
    "    print('Execution complete.')\n",
    "\n",
    "  return result\n",
    "\n",
    "function_14(arr1)\n",
    "function_14(arr2)"
   ]
  },
  {
   "cell_type": "code",
   "execution_count": 33,
   "metadata": {},
   "outputs": [
    {
     "name": "stdout",
     "output_type": "stream",
     "text": [
      "Execution complete\n",
      "Execution complete\n"
     ]
    }
   ],
   "source": [
    "### Assignment 15: Exception Handling in File Writing\n",
    "\n",
    "# Write a function that attempts to write a list of strings to a file. Use try, except, and finally blocks to handle IOError\n",
    "# and ensure the file is properly closed.\n",
    "\n",
    "arr1 = ['1', '2', '3', '4', '5']\n",
    "arr2 = ['a', 'b']\n",
    "\n",
    "def function_15(str_list):\n",
    "  try:\n",
    "    content = ''\n",
    "    for str in str_list:\n",
    "      content += str\n",
    "    file = open('data.txt', 'a')\n",
    "    file.write(content)\n",
    "  except IOError as err:\n",
    "    print(f'Could not write file {err}')\n",
    "  finally:\n",
    "    print('Execution complete')\n",
    "    file.close()\n",
    "\n",
    "function_15(arr1)\n",
    "function_15(arr2)"
   ]
  }
 ],
 "metadata": {
  "kernelspec": {
   "display_name": "Python 3",
   "language": "python",
   "name": "python3"
  },
  "language_info": {
   "codemirror_mode": {
    "name": "ipython",
    "version": 3
   },
   "file_extension": ".py",
   "mimetype": "text/x-python",
   "name": "python",
   "nbconvert_exporter": "python",
   "pygments_lexer": "ipython3",
   "version": "3.12.0"
  }
 },
 "nbformat": 4,
 "nbformat_minor": 2
}
