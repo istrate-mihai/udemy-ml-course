{
 "cells": [
  {
   "cell_type": "code",
   "execution_count": null,
   "metadata": {},
   "outputs": [],
   "source": [
    "# Show available dtype aliases\n",
    "print(\"Common dtype aliases in pandas:\")\n",
    "dtypes = {\n",
    "    'b': 'boolean',\n",
    "    'i': 'integer',\n",
    "    'u': 'unsigned integer',\n",
    "    'f': 'float',\n",
    "    'c': 'complex',\n",
    "    'O': 'object',\n",
    "    'S': 'string',\n",
    "    'U': 'unicode',\n",
    "    'M': 'datetime',\n",
    "    'm': 'timedelta',\n",
    "    'V': 'void',\n",
    "    'category': 'category',\n",
    "    'int64': '64-bit integer',\n",
    "    'float64': '64-bit float',\n",
    "    'int32': '32-bit integer',\n",
    "    'float32': '32-bit float',\n",
    "    'int16': '16-bit integer',\n",
    "    'float16': '16-bit float',\n",
    "    'int8': '8-bit integer',\n",
    "    'uint8': '8-bit unsigned integer',\n",
    "    'datetime64[ns]': 'nanosecond timestamp',\n",
    "    'timedelta64[ns]': 'nanosecond duration',\n",
    "}"
   ]
  },
  {
   "cell_type": "code",
   "execution_count": null,
   "metadata": {},
   "outputs": [],
   "source": []
  }
 ],
 "metadata": {
  "kernelspec": {
   "display_name": "Python 3",
   "language": "python",
   "name": "python3"
  },
  "language_info": {
   "name": "python",
   "version": "3.12.0"
  }
 },
 "nbformat": 4,
 "nbformat_minor": 2
}
