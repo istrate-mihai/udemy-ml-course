{
 "cells": [
  {
   "cell_type": "code",
   "execution_count": 1,
   "metadata": {},
   "outputs": [],
   "source": [
    "import pandas as pd\n",
    "import seaborn as sns\n",
    "import numpy as np"
   ]
  },
  {
   "cell_type": "code",
   "execution_count": 2,
   "metadata": {},
   "outputs": [
    {
     "data": {
      "text/plain": [
       "A    1\n",
       "B    2\n",
       "dtype: int64"
      ]
     },
     "execution_count": 2,
     "metadata": {},
     "output_type": "execute_result"
    }
   ],
   "source": [
    "df = pd.DataFrame({\n",
    "    'A': [1, 2, None, 4],\n",
    "    'B': [5, None, None, 8],\n",
    "})\n",
    "\n",
    "df.isnull().sum()"
   ]
  },
  {
   "cell_type": "code",
   "execution_count": 3,
   "metadata": {},
   "outputs": [],
   "source": [
    "titanic_df = sns.load_dataset('titanic')"
   ]
  },
  {
   "cell_type": "code",
   "execution_count": 4,
   "metadata": {},
   "outputs": [
    {
     "name": "stdout",
     "output_type": "stream",
     "text": [
      "(891, 15)\n"
     ]
    }
   ],
   "source": [
    "# titanic_df.head()\n",
    "print(titanic_df.shape)\n",
    "# print(titanic_df.isnull())\n",
    "# print(titanic_df.isna())\n",
    "# print(titanic_df.notnull())\n",
    "# print(titanic_df.notna())"
   ]
  },
  {
   "cell_type": "code",
   "execution_count": 5,
   "metadata": {},
   "outputs": [],
   "source": [
    "# titanic_df.isnull().sum()\n",
    "# titanic_df.shape"
   ]
  },
  {
   "cell_type": "code",
   "execution_count": 6,
   "metadata": {},
   "outputs": [],
   "source": [
    "# titanic_df = titanic_df.dropna()"
   ]
  },
  {
   "cell_type": "code",
   "execution_count": 7,
   "metadata": {},
   "outputs": [],
   "source": [
    "# titanic_df.shape"
   ]
  },
  {
   "cell_type": "code",
   "execution_count": 8,
   "metadata": {},
   "outputs": [],
   "source": [
    "# titanic_df = titanic_df.dropna(how='all')\n",
    "# print(titanic_df.shape)"
   ]
  },
  {
   "cell_type": "code",
   "execution_count": 60,
   "metadata": {},
   "outputs": [
    {
     "data": {
      "text/plain": [
       "array([   -478,    -168,     276,    -247,     140,     614,    -269,\n",
       "          -375,     928,     173,     928,    -316,      95,     715,\n",
       "           164,      40,     736,     894,    -374,    -275,     714,\n",
       "          -469,     167,     566,     238,    -321,     768,    -129,\n",
       "           221,     607,     689,     965,      57,     733,    -403,\n",
       "           212,    -204,    -207,    -467,     570,     734,    -288,\n",
       "           106,    -131,     686,    -146,     290,     342,    -321,\n",
       "           912,    -415,    -302,     751,     221,     546,     653,\n",
       "           -93,     645,      18,     450,     510,    -134,    -105,\n",
       "          -308,    -100,     155,    -170,     972,     643,     -68,\n",
       "             5,    -163,     296,    -379,       7,     423,    -141,\n",
       "           958,     143,    -341,    -141,    -226,     472,     207,\n",
       "          -407,     100,    -421,     621,    -347,    -469,    -476,\n",
       "          -129,     463,    -130,    -307,     303,    -481,     825,\n",
       "           172,     -64,  111110,  -25500, -999999])"
      ]
     },
     "execution_count": 60,
     "metadata": {},
     "output_type": "execute_result"
    }
   ],
   "source": [
    "integer_list = np.random.randint(-500, 1000, size = 100)\n",
    "outliers = np.array([111110, -25500, -999999])\n",
    "integer_list = np.concatenate((integer_list, outliers), axis = None)\n",
    "integer_list"
   ]
  },
  {
   "cell_type": "code",
   "execution_count": 61,
   "metadata": {},
   "outputs": [],
   "source": [
    "from scipy.stats import zscore"
   ]
  },
  {
   "cell_type": "code",
   "execution_count": 62,
   "metadata": {},
   "outputs": [],
   "source": [
    "z_scores = zscore(integer_list)\n",
    "outliers = np.where(np.abs(z_scores) > 3)"
   ]
  },
  {
   "cell_type": "code",
   "execution_count": 63,
   "metadata": {},
   "outputs": [
    {
     "data": {
      "text/plain": [
       "array([-999999])"
      ]
     },
     "execution_count": 63,
     "metadata": {},
     "output_type": "execute_result"
    }
   ],
   "source": [
    "integer_list[outliers]"
   ]
  },
  {
   "cell_type": "code",
   "execution_count": 64,
   "metadata": {},
   "outputs": [],
   "source": [
    "Q1 = np.percentile(integer_list, 25)\n",
    "Q3 = np.percentile(integer_list, 75)\n",
    "IQR = Q3 - Q1\n"
   ]
  },
  {
   "cell_type": "code",
   "execution_count": 65,
   "metadata": {},
   "outputs": [
    {
     "name": "stdout",
     "output_type": "stream",
     "text": [
      "-1479.0\n",
      "963.0\n"
     ]
    }
   ],
   "source": [
    "lower_fence = Q1 - 1.5 * IQR\n",
    "upper_fence = Q1 + 1.5 * IQR\n",
    "print(lower_fence)\n",
    "print(upper_fence)"
   ]
  },
  {
   "cell_type": "code",
   "execution_count": 66,
   "metadata": {},
   "outputs": [
    {
     "data": {
      "text/plain": [
       "array([    965,     972,  111110,  -25500, -999999])"
      ]
     },
     "execution_count": 66,
     "metadata": {},
     "output_type": "execute_result"
    }
   ],
   "source": [
    "outliers = integer_list[(integer_list < lower_fence) | (integer_list > upper_fence)]\n",
    "outliers"
   ]
  },
  {
   "cell_type": "code",
   "execution_count": 67,
   "metadata": {},
   "outputs": [
    {
     "data": {
      "image/png": "[encoded data removed]",
      "text/plain": [
       "<Figure size 640x480 with 1 Axes>"
      ]
     },
     "metadata": {},
     "output_type": "display_data"
    }
   ],
   "source": [
    "import matplotlib.pyplot as plt\n",
    "sns.boxplot(integer_list)\n",
    "plt.show()"
   ]
  },
  {
   "cell_type": "code",
   "execution_count": 71,
   "metadata": {},
   "outputs": [
    {
     "data": {
      "text/plain": [
       "array([   -478,    -168,     276,    -247,     140,     614,    -269,\n",
       "          -375,     928,     173,     928,    -316,      95,     715,\n",
       "           164,      40,     736,     894,    -374,    -275,     714,\n",
       "          -469,     167,     566,     238,    -321,     768,    -129,\n",
       "           221,     607,     689,     965,      57,     733,    -403,\n",
       "           212,    -204,    -207,    -467,     570,     734,    -288,\n",
       "           106,    -131,     686,    -146,     290,     342,    -321,\n",
       "           912,    -415,    -302,     751,     221,     546,     653,\n",
       "           -93,     645,      18,     450,     510,    -134,    -105,\n",
       "          -308,    -100,     155,    -170,     972,     643,     -68,\n",
       "             5,    -163,     296,    -379,       7,     423,    -141,\n",
       "           958,     143,    -341,    -141,    -226,     472,     207,\n",
       "          -407,     100,    -421,     621,    -347,    -469,    -476,\n",
       "          -129,     463,    -130,    -307,     303,    -481,     825,\n",
       "           172,     -64,  111110,  -25500, -999999])"
      ]
     },
     "execution_count": 71,
     "metadata": {},
     "output_type": "execute_result"
    }
   ],
   "source": [
    "# integer_list = integer_list[(integer_list >= lower_fence) & (integer_list <= upper_fence)]\n",
    "integer_list"
   ]
  },
  {
   "cell_type": "code",
   "execution_count": 72,
   "metadata": {},
   "outputs": [
    {
     "name": "stdout",
     "output_type": "stream",
     "text": [
      "[ -478.  -168.   276.  -247.   140.   614.  -269.  -375.   928.   173.\n",
      "   928.  -316.    95.   715.   164.    40.   736.   894.  -374.  -275.\n",
      "   714.  -469.   167.   566.   238.  -321.   768.  -129.   221.   607.\n",
      "   689.   963.    57.   733.  -403.   212.  -204.  -207.  -467.   570.\n",
      "   734.  -288.   106.  -131.   686.  -146.   290.   342.  -321.   912.\n",
      "  -415.  -302.   751.   221.   546.   653.   -93.   645.    18.   450.\n",
      "   510.  -134.  -105.  -308.  -100.   155.  -170.   963.   643.   -68.\n",
      "     5.  -163.   296.  -379.     7.   423.  -141.   958.   143.  -341.\n",
      "  -141.  -226.   472.   207.  -407.   100.  -421.   621.  -347.  -469.\n",
      "  -476.  -129.   463.  -130.  -307.   303.  -481.   825.   172.   -64.\n",
      "   963. -1479. -1479.]\n"
     ]
    }
   ],
   "source": [
    "capped_data = np.where(integer_list < lower_fence, lower_fence, integer_list)\n",
    "capped_data = np.where(capped_data > upper_fence, upper_fence, capped_data)\n",
    "print(capped_data)"
   ]
  },
  {
   "cell_type": "code",
   "execution_count": null,
   "metadata": {},
   "outputs": [],
   "source": []
  },
  {
   "cell_type": "code",
   "execution_count": null,
   "metadata": {},
   "outputs": [],
   "source": []
  },
  {
   "cell_type": "code",
   "execution_count": null,
   "metadata": {},
   "outputs": [],
   "source": []
  },
  {
   "cell_type": "code",
   "execution_count": null,
   "metadata": {},
   "outputs": [],
   "source": []
  },
  {
   "cell_type": "code",
   "execution_count": null,
   "metadata": {},
   "outputs": [],
   "source": []
  },
  {
   "cell_type": "code",
   "execution_count": null,
   "metadata": {},
   "outputs": [],
   "source": []
  },
  {
   "cell_type": "code",
   "execution_count": null,
   "metadata": {},
   "outputs": [],
   "source": []
  }
 ],
 "metadata": {
  "kernelspec": {
   "display_name": "Python 3",
   "language": "python",
   "name": "python3"
  },
  "language_info": {
   "codemirror_mode": {
    "name": "ipython",
    "version": 3
   },
   "file_extension": ".py",
   "mimetype": "text/x-python",
   "name": "python",
   "nbconvert_exporter": "python",
   "pygments_lexer": "ipython3",
   "version": "3.12.0"
  }
 },
 "nbformat": 4,
 "nbformat_minor": 2
}
